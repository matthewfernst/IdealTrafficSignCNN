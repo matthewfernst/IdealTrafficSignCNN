{
 "cells": [
  {
   "cell_type": "code",
   "execution_count": 1,
   "id": "fiscal-composite",
   "metadata": {},
   "outputs": [],
   "source": [
    "import numpy as np\n",
    "import os\n",
    "import cv2"
   ]
  },
  {
   "cell_type": "code",
   "execution_count": 19,
   "id": "intensive-prison",
   "metadata": {},
   "outputs": [],
   "source": [
    "def noisy(noise_typ,image):\n",
    "#     if noise_typ == \"gauss\":\n",
    "#         row,col,ch= image.shape\n",
    "#         mean = 0\n",
    "#         var = 0.5\n",
    "#         sigma = var**0.5\n",
    "#         gauss = np.random.normal(mean,sigma,(row,col,ch))\n",
    "#         gauss = gauss.reshape(row,col,ch)\n",
    "#         noisy = image + gauss\n",
    "#         return noisy\n",
    "#     elif noise_typ == \"s&p\":\n",
    "#         row,col,ch = image.shape\n",
    "#         s_vs_p = 0.5\n",
    "#         amount = 0.004\n",
    "#         out = np.copy(image)\n",
    "#         # Salt mode\n",
    "#         num_salt = np.ceil(amount * image.size * s_vs_p)\n",
    "#         coords = [np.random.randint(0, i - 1, int(num_salt))\n",
    "#               for i in image.shape]\n",
    "#         out[coords] = 1\n",
    "\n",
    "#         # Pepper mode\n",
    "#         num_pepper = np.ceil(amount* image.size * (1. - s_vs_p))\n",
    "#         coords = [np.random.randint(0, i - 1, int(num_pepper))\n",
    "#               for i in image.shape]\n",
    "#         out[coords] = 0\n",
    "#         return out\n",
    "#     elif noise_typ == \"poisson\":\n",
    "#         vals = len(np.unique(image))\n",
    "#         vals = 2 ** np.ceil(np.log2(vals))\n",
    "#         noisy = np.random.poisson(image * vals) / float(vals)\n",
    "#         return noisy\n",
    "#     elif noise_typ ==\"speckle\":\n",
    "    row,col,ch = image.shape\n",
    "    gauss = np.random.randn(row,col,ch)\n",
    "    gauss = gauss.reshape(row,col,ch)        \n",
    "    noisy = image + image * gauss\n",
    "    return noisy"
   ]
  },
  {
   "cell_type": "code",
   "execution_count": 20,
   "id": "mental-utility",
   "metadata": {},
   "outputs": [
    {
     "data": {
      "text/plain": [
       "True"
      ]
     },
     "execution_count": 20,
     "metadata": {},
     "output_type": "execute_result"
    }
   ],
   "source": [
    "orig = cv2.imread('./Images/StopSign.jpg')\n",
    "cv2.imshow('original', orig)\n",
    "cv2.waitKey(0)\n",
    "cv2.destroyAllWindows()\n",
    "noise = noisy('speckle', orig)\n",
    "cv2.imshow('boise', noise)\n",
    "cv2.waitKey(0)\n",
    "cv2.destroyAllWindows()\n",
    "cv2.imwrite('./Images/noisy_stop_sign.jpg', noise)"
   ]
  },
  {
   "cell_type": "code",
   "execution_count": 21,
   "id": "daily-award",
   "metadata": {},
   "outputs": [],
   "source": [
    "def noise_imgs(orig):\n",
    "    for img in data:\n",
    "        img = noisy(img)"
   ]
  },
  {
   "cell_type": "code",
   "execution_count": null,
   "id": "invalid-quest",
   "metadata": {},
   "outputs": [],
   "source": [
    "def save_output(set_num):\n",
    "    pik = open(f'noised_dataset_{set_num}', 'wb')\n",
    "    pickle.dump(noised_x_test, pik)\n",
    "    pik.close()"
   ]
  },
  {
   "cell_type": "code",
   "execution_count": null,
   "id": "excellent-tournament",
   "metadata": {},
   "outputs": [],
   "source": [
    "x_train, x_test, y_train, y_test = train_test_split(features, label, test_size=0.1, shuffle=True, random_state=1001)\n",
    "noised_x_test = noise_imgs(x_test)\n",
    "save_output(0)"
   ]
  },
  {
   "cell_type": "code",
   "execution_count": null,
   "id": "committed-posting",
   "metadata": {},
   "outputs": [],
   "source": []
  }
 ],
 "metadata": {
  "kernelspec": {
   "display_name": "Python 3",
   "language": "python",
   "name": "python3"
  },
  "language_info": {
   "codemirror_mode": {
    "name": "ipython",
    "version": 3
   },
   "file_extension": ".py",
   "mimetype": "text/x-python",
   "name": "python",
   "nbconvert_exporter": "python",
   "pygments_lexer": "ipython3",
   "version": "3.8.5"
  }
 },
 "nbformat": 4,
 "nbformat_minor": 5
}